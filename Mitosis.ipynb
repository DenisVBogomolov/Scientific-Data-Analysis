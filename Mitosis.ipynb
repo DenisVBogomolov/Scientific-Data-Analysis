{
 "cells": [
  {
   "cell_type": "markdown",
   "metadata": {},
   "source": [
    "## **Обработка данных. Описательная статистика. Гистограммы размаха. Тепловая матрица корреляций**"
   ]
  },
  {
   "cell_type": "code",
   "execution_count": 1,
   "metadata": {},
   "outputs": [],
   "source": [
    "import pandas as pd\n",
    "import numpy as np\n",
    "import matplotlib.pyplot as plt\n",
    "from datetime import datetime\n",
    "import pprint\n",
    "import seaborn as sns"
   ]
  },
  {
   "cell_type": "code",
   "execution_count": 2,
   "metadata": {},
   "outputs": [],
   "source": [
    "data=pd.read_excel('/Users/denisbogomolov/Documents/Data_Analysis/mitosis.xlsx')"
   ]
  },
  {
   "cell_type": "code",
   "execution_count": 3,
   "metadata": {},
   "outputs": [
    {
     "data": {
      "text/html": [
       "<div>\n",
       "<style scoped>\n",
       "    .dataframe tbody tr th:only-of-type {\n",
       "        vertical-align: middle;\n",
       "    }\n",
       "\n",
       "    .dataframe tbody tr th {\n",
       "        vertical-align: top;\n",
       "    }\n",
       "\n",
       "    .dataframe thead th {\n",
       "        text-align: right;\n",
       "    }\n",
       "</style>\n",
       "<table border=\"1\" class=\"dataframe\">\n",
       "  <thead>\n",
       "    <tr style=\"text-align: right;\">\n",
       "      <th></th>\n",
       "      <th>time_inj (hrs)</th>\n",
       "      <th>cm_1</th>\n",
       "      <th>em_1</th>\n",
       "      <th>cm_1_2</th>\n",
       "      <th>em_1_2</th>\n",
       "      <th>cm_2</th>\n",
       "      <th>em_2</th>\n",
       "      <th>cm_3</th>\n",
       "      <th>em_3</th>\n",
       "      <th>cm_4</th>\n",
       "      <th>em_4</th>\n",
       "    </tr>\n",
       "  </thead>\n",
       "  <tbody>\n",
       "    <tr>\n",
       "      <th>0</th>\n",
       "      <td>13</td>\n",
       "      <td>74.4</td>\n",
       "      <td>98.1</td>\n",
       "      <td>16.6</td>\n",
       "      <td>1.9</td>\n",
       "      <td>9.0</td>\n",
       "      <td>0.0</td>\n",
       "      <td>0.0</td>\n",
       "      <td>0.0</td>\n",
       "      <td>0.0</td>\n",
       "      <td>0.0</td>\n",
       "    </tr>\n",
       "    <tr>\n",
       "      <th>1</th>\n",
       "      <td>19</td>\n",
       "      <td>61.1</td>\n",
       "      <td>67.7</td>\n",
       "      <td>16.1</td>\n",
       "      <td>19.7</td>\n",
       "      <td>21.6</td>\n",
       "      <td>12.6</td>\n",
       "      <td>1.2</td>\n",
       "      <td>0.0</td>\n",
       "      <td>0.0</td>\n",
       "      <td>0.0</td>\n",
       "    </tr>\n",
       "    <tr>\n",
       "      <th>2</th>\n",
       "      <td>25</td>\n",
       "      <td>21.4</td>\n",
       "      <td>54.8</td>\n",
       "      <td>14.5</td>\n",
       "      <td>20.8</td>\n",
       "      <td>47.4</td>\n",
       "      <td>23.3</td>\n",
       "      <td>16.2</td>\n",
       "      <td>1.1</td>\n",
       "      <td>0.5</td>\n",
       "      <td>0.0</td>\n",
       "    </tr>\n",
       "    <tr>\n",
       "      <th>3</th>\n",
       "      <td>31</td>\n",
       "      <td>3.9</td>\n",
       "      <td>25.3</td>\n",
       "      <td>0.9</td>\n",
       "      <td>13.7</td>\n",
       "      <td>29.8</td>\n",
       "      <td>43.2</td>\n",
       "      <td>47.7</td>\n",
       "      <td>18.7</td>\n",
       "      <td>17.7</td>\n",
       "      <td>0.7</td>\n",
       "    </tr>\n",
       "    <tr>\n",
       "      <th>4</th>\n",
       "      <td>37</td>\n",
       "      <td>0.0</td>\n",
       "      <td>9.1</td>\n",
       "      <td>0.0</td>\n",
       "      <td>2.8</td>\n",
       "      <td>0.0</td>\n",
       "      <td>25.4</td>\n",
       "      <td>0.0</td>\n",
       "      <td>33.1</td>\n",
       "      <td>0.0</td>\n",
       "      <td>29.6</td>\n",
       "    </tr>\n",
       "  </tbody>\n",
       "</table>\n",
       "</div>"
      ],
      "text/plain": [
       "   time_inj (hrs)  cm_1  em_1  cm_1_2  em_1_2  cm_2  em_2  cm_3  em_3  cm_4  \\\n",
       "0              13  74.4  98.1    16.6     1.9   9.0   0.0   0.0   0.0   0.0   \n",
       "1              19  61.1  67.7    16.1    19.7  21.6  12.6   1.2   0.0   0.0   \n",
       "2              25  21.4  54.8    14.5    20.8  47.4  23.3  16.2   1.1   0.5   \n",
       "3              31   3.9  25.3     0.9    13.7  29.8  43.2  47.7  18.7  17.7   \n",
       "4              37   0.0   9.1     0.0     2.8   0.0  25.4   0.0  33.1   0.0   \n",
       "\n",
       "   em_4  \n",
       "0   0.0  \n",
       "1   0.0  \n",
       "2   0.0  \n",
       "3   0.7  \n",
       "4  29.6  "
      ]
     },
     "execution_count": 3,
     "metadata": {},
     "output_type": "execute_result"
    }
   ],
   "source": [
    "data.head(5)"
   ]
  },
  {
   "cell_type": "markdown",
   "metadata": {},
   "source": [
    "### *Условные обозначения*\n",
    "- **time_inj (hrs)** - время после инъекций (в часах)\n",
    "- **cm_1** - клетки контрольной группы, вступившие в митоз после прохождения одного митотического цикла\n",
    "- **em_1** - клетки опытной группы, вступившие в митоз после прохождения одного митотического цикла\n",
    "- **cm_1_2** - клетки контрольной группы,прошедшие последовательно S- период, оставшуюся часть первого и второй митозы\n",
    "- **em_1_2** - клетки опытной группы,прошедшие последовательно S- период, оставшуюся часть первого и второй митозы\n",
    "- **cm_2** - клетки контрольной группы, вступившие в митоз после прохождения двух митотических циклов\n",
    "- **em_2** - клетки опытной группы, вступившие в митоз после прохождения двух митотических циклов\n",
    "- **cm_3** - клетки контрольной группы, вступившие в митоз после прохождения трех митотических циклов\n",
    "- **em_3** - клетки опытной группы, вступившие в митоз после прохождения трех митотических циклов\n",
    "- **cm_4** - клетки контрольной группы, вступившие в митоз после прохождения четырех митотических циклов\n",
    "- **em_4** - клетки опытной группы, вступившие в митоз после прохождения четырех митотических циклов"
   ]
  },
  {
   "cell_type": "code",
   "execution_count": 4,
   "metadata": {},
   "outputs": [
    {
     "data": {
      "text/html": [
       "<div>\n",
       "<style scoped>\n",
       "    .dataframe tbody tr th:only-of-type {\n",
       "        vertical-align: middle;\n",
       "    }\n",
       "\n",
       "    .dataframe tbody tr th {\n",
       "        vertical-align: top;\n",
       "    }\n",
       "\n",
       "    .dataframe thead th {\n",
       "        text-align: right;\n",
       "    }\n",
       "</style>\n",
       "<table border=\"1\" class=\"dataframe\">\n",
       "  <thead>\n",
       "    <tr style=\"text-align: right;\">\n",
       "      <th></th>\n",
       "      <th>time_inj (hrs)</th>\n",
       "      <th>cm_1</th>\n",
       "      <th>em_1</th>\n",
       "      <th>cm_1_2</th>\n",
       "      <th>em_1_2</th>\n",
       "      <th>cm_2</th>\n",
       "      <th>em_2</th>\n",
       "      <th>cm_3</th>\n",
       "      <th>em_3</th>\n",
       "      <th>cm_4</th>\n",
       "      <th>em_4</th>\n",
       "    </tr>\n",
       "  </thead>\n",
       "  <tbody>\n",
       "    <tr>\n",
       "      <th>count</th>\n",
       "      <td>5.000000</td>\n",
       "      <td>5.000000</td>\n",
       "      <td>5.000000</td>\n",
       "      <td>5.000000</td>\n",
       "      <td>5.000000</td>\n",
       "      <td>5.000000</td>\n",
       "      <td>5.000000</td>\n",
       "      <td>5.000000</td>\n",
       "      <td>5.000000</td>\n",
       "      <td>5.00000</td>\n",
       "      <td>5.00000</td>\n",
       "    </tr>\n",
       "    <tr>\n",
       "      <th>mean</th>\n",
       "      <td>25.000000</td>\n",
       "      <td>32.160000</td>\n",
       "      <td>51.000000</td>\n",
       "      <td>9.620000</td>\n",
       "      <td>11.780000</td>\n",
       "      <td>21.560000</td>\n",
       "      <td>20.900000</td>\n",
       "      <td>13.020000</td>\n",
       "      <td>10.580000</td>\n",
       "      <td>3.64000</td>\n",
       "      <td>6.06000</td>\n",
       "    </tr>\n",
       "    <tr>\n",
       "      <th>std</th>\n",
       "      <td>9.486833</td>\n",
       "      <td>33.802411</td>\n",
       "      <td>35.099288</td>\n",
       "      <td>8.412907</td>\n",
       "      <td>9.028123</td>\n",
       "      <td>18.426828</td>\n",
       "      <td>16.039015</td>\n",
       "      <td>20.564338</td>\n",
       "      <td>14.889829</td>\n",
       "      <td>7.86276</td>\n",
       "      <td>13.16275</td>\n",
       "    </tr>\n",
       "    <tr>\n",
       "      <th>min</th>\n",
       "      <td>13.000000</td>\n",
       "      <td>0.000000</td>\n",
       "      <td>9.100000</td>\n",
       "      <td>0.000000</td>\n",
       "      <td>1.900000</td>\n",
       "      <td>0.000000</td>\n",
       "      <td>0.000000</td>\n",
       "      <td>0.000000</td>\n",
       "      <td>0.000000</td>\n",
       "      <td>0.00000</td>\n",
       "      <td>0.00000</td>\n",
       "    </tr>\n",
       "    <tr>\n",
       "      <th>25%</th>\n",
       "      <td>19.000000</td>\n",
       "      <td>3.900000</td>\n",
       "      <td>25.300000</td>\n",
       "      <td>0.900000</td>\n",
       "      <td>2.800000</td>\n",
       "      <td>9.000000</td>\n",
       "      <td>12.600000</td>\n",
       "      <td>0.000000</td>\n",
       "      <td>0.000000</td>\n",
       "      <td>0.00000</td>\n",
       "      <td>0.00000</td>\n",
       "    </tr>\n",
       "    <tr>\n",
       "      <th>50%</th>\n",
       "      <td>25.000000</td>\n",
       "      <td>21.400000</td>\n",
       "      <td>54.800000</td>\n",
       "      <td>14.500000</td>\n",
       "      <td>13.700000</td>\n",
       "      <td>21.600000</td>\n",
       "      <td>23.300000</td>\n",
       "      <td>1.200000</td>\n",
       "      <td>1.100000</td>\n",
       "      <td>0.00000</td>\n",
       "      <td>0.00000</td>\n",
       "    </tr>\n",
       "    <tr>\n",
       "      <th>75%</th>\n",
       "      <td>31.000000</td>\n",
       "      <td>61.100000</td>\n",
       "      <td>67.700000</td>\n",
       "      <td>16.100000</td>\n",
       "      <td>19.700000</td>\n",
       "      <td>29.800000</td>\n",
       "      <td>25.400000</td>\n",
       "      <td>16.200000</td>\n",
       "      <td>18.700000</td>\n",
       "      <td>0.50000</td>\n",
       "      <td>0.70000</td>\n",
       "    </tr>\n",
       "    <tr>\n",
       "      <th>max</th>\n",
       "      <td>37.000000</td>\n",
       "      <td>74.400000</td>\n",
       "      <td>98.100000</td>\n",
       "      <td>16.600000</td>\n",
       "      <td>20.800000</td>\n",
       "      <td>47.400000</td>\n",
       "      <td>43.200000</td>\n",
       "      <td>47.700000</td>\n",
       "      <td>33.100000</td>\n",
       "      <td>17.70000</td>\n",
       "      <td>29.60000</td>\n",
       "    </tr>\n",
       "  </tbody>\n",
       "</table>\n",
       "</div>"
      ],
      "text/plain": [
       "       time_inj (hrs)       cm_1       em_1     cm_1_2     em_1_2       cm_2  \\\n",
       "count        5.000000   5.000000   5.000000   5.000000   5.000000   5.000000   \n",
       "mean        25.000000  32.160000  51.000000   9.620000  11.780000  21.560000   \n",
       "std          9.486833  33.802411  35.099288   8.412907   9.028123  18.426828   \n",
       "min         13.000000   0.000000   9.100000   0.000000   1.900000   0.000000   \n",
       "25%         19.000000   3.900000  25.300000   0.900000   2.800000   9.000000   \n",
       "50%         25.000000  21.400000  54.800000  14.500000  13.700000  21.600000   \n",
       "75%         31.000000  61.100000  67.700000  16.100000  19.700000  29.800000   \n",
       "max         37.000000  74.400000  98.100000  16.600000  20.800000  47.400000   \n",
       "\n",
       "            em_2       cm_3       em_3      cm_4      em_4  \n",
       "count   5.000000   5.000000   5.000000   5.00000   5.00000  \n",
       "mean   20.900000  13.020000  10.580000   3.64000   6.06000  \n",
       "std    16.039015  20.564338  14.889829   7.86276  13.16275  \n",
       "min     0.000000   0.000000   0.000000   0.00000   0.00000  \n",
       "25%    12.600000   0.000000   0.000000   0.00000   0.00000  \n",
       "50%    23.300000   1.200000   1.100000   0.00000   0.00000  \n",
       "75%    25.400000  16.200000  18.700000   0.50000   0.70000  \n",
       "max    43.200000  47.700000  33.100000  17.70000  29.60000  "
      ]
     },
     "execution_count": 4,
     "metadata": {},
     "output_type": "execute_result"
    }
   ],
   "source": [
    "data.describe()"
   ]
  },
  {
   "cell_type": "markdown",
   "metadata": {},
   "source": [
    "- **count** - общее число значений в каждом столбце\n",
    "- **mean** - среднее арифметическое\n",
    "- **std** - стандартное отклонение\n",
    "- **min** - минимальное значение по столбцам\n",
    "- **25%** - первый квартиль (Q1)\n",
    "- **50%** - второй квартиль (Q2)\n",
    "- **75%** - третий квартиль (Q3)\n",
    "- **max** - максимальное значение по столбцам"
   ]
  },
  {
   "cell_type": "markdown",
   "metadata": {},
   "source": [
    "___"
   ]
  },
  {
   "cell_type": "code",
   "execution_count": 5,
   "metadata": {},
   "outputs": [
    {
     "data": {
      "text/plain": [
       "time_inj (hrs)       AxesSubplot(0.125,0.749828;0.133621x0.130172)\n",
       "cm_1              AxesSubplot(0.285345,0.749828;0.133621x0.130172)\n",
       "em_1               AxesSubplot(0.44569,0.749828;0.133621x0.130172)\n",
       "cm_1_2            AxesSubplot(0.606034,0.749828;0.133621x0.130172)\n",
       "em_1_2            AxesSubplot(0.766379,0.749828;0.133621x0.130172)\n",
       "cm_2                 AxesSubplot(0.125,0.593621;0.133621x0.130172)\n",
       "em_2              AxesSubplot(0.285345,0.593621;0.133621x0.130172)\n",
       "cm_3               AxesSubplot(0.44569,0.593621;0.133621x0.130172)\n",
       "em_3              AxesSubplot(0.606034,0.593621;0.133621x0.130172)\n",
       "cm_4              AxesSubplot(0.766379,0.593621;0.133621x0.130172)\n",
       "em_4                 AxesSubplot(0.125,0.437414;0.133621x0.130172)\n",
       "dtype: object"
      ]
     },
     "execution_count": 5,
     "metadata": {},
     "output_type": "execute_result"
    },
    {
     "data": {
      "image/png": "[encoded data removed]",
      "text/plain": [
       "<Figure size 1440x1440 with 25 Axes>"
      ]
     },
     "metadata": {
      "needs_background": "light"
     },
     "output_type": "display_data"
    }
   ],
   "source": [
    "data.plot(kind='box', subplots=True, layout=(5,5), figsize=(20,20))"
   ]
  },
  {
   "cell_type": "markdown",
   "metadata": {},
   "source": [
    "**Гистограммы размаха по каждому столбцу:** \n",
    "- Медиана (зеленая линия)\n",
    "- Q1 и Q3 (\"усы\")\n",
    "- \"Выбросы\" (o)"
   ]
  },
  {
   "cell_type": "markdown",
   "metadata": {},
   "source": [
    "*Можно сделать отдельные большие гистограммы размаха по каждому столбцу, например как...*"
   ]
  },
  {
   "cell_type": "code",
   "execution_count": 6,
   "metadata": {},
   "outputs": [
    {
     "data": {
      "image/png": "[encoded data removed]",
      "text/plain": [
       "<Figure size 576x576 with 1 Axes>"
      ]
     },
     "metadata": {
      "needs_background": "light"
     },
     "output_type": "display_data"
    }
   ],
   "source": [
    "data['em_1'].plot(kind='box', figsize=(8,8))\n",
    "plt.title('Клетки опытной группы, вступившие в митоз после прохождения одного митотического цикла')\n",
    "plt.xlabel('Опытная популяция клеток')\n",
    "plt.ylabel('Количество клеток в популяции')\n",
    "plt.show()"
   ]
  },
  {
   "cell_type": "markdown",
   "metadata": {},
   "source": [
    "___\n"
   ]
  },
  {
   "cell_type": "markdown",
   "metadata": {},
   "source": [
    "## **Пример графика зависимости**"
   ]
  },
  {
   "cell_type": "code",
   "execution_count": 17,
   "metadata": {},
   "outputs": [
    {
     "data": {
      "image/png": "[encoded data removed]",
      "text/plain": [
       "<Figure size 1008x504 with 1 Axes>"
      ]
     },
     "metadata": {
      "needs_background": "light"
     },
     "output_type": "display_data"
    }
   ],
   "source": [
    "data.groupby('em_1').agg({'time_inj (hrs)':'mean'}).sort_values(by='em_1').\\\n",
    "plot(figsize = (14,7), color='red', legend=False,)\n",
    "                                                                                                                   \n",
    "plt.title('Клетки из экспериментальной группы, вступившие в первый митотический цикл. Зависимость от времени (часы)')\n",
    "plt.xlabel('Количество клеток')\n",
    "plt.ylabel('Время')\n",
    "plt.show()"
   ]
  },
  {
   "cell_type": "markdown",
   "metadata": {},
   "source": [
    "### **Обобщенная корреляционная матрица. \"Тепловая карта корреляций\"**"
   ]
  },
  {
   "cell_type": "code",
   "execution_count": 7,
   "metadata": {},
   "outputs": [
    {
     "data": {
      "text/plain": [
       "<AxesSubplot:>"
      ]
     },
     "execution_count": 7,
     "metadata": {},
     "output_type": "execute_result"
    },
    {
     "data": {
      "image/png": "[encoded data removed]",
      "text/plain": [
       "<Figure size 1440x1080 with 2 Axes>"
      ]
     },
     "metadata": {
      "needs_background": "light"
     },
     "output_type": "display_data"
    }
   ],
   "source": [
    "corr = data.corr()\n",
    "plt.subplots(figsize=(20,15))\n",
    "sns.heatmap(corr, \n",
    "            xticklabels=corr.columns.values,\n",
    "            yticklabels=corr.columns.values,\n",
    "            linewidths=.1)"
   ]
  },
  {
   "cell_type": "markdown",
   "metadata": {},
   "source": [
    "## **Пример корреляции между различными опытными и контрольными группами**"
   ]
  },
  {
   "cell_type": "code",
   "execution_count": 13,
   "metadata": {},
   "outputs": [
    {
     "data": {
      "text/html": [
       "<style  type=\"text/css\" >\n",
       "#T_d7c6e7dc_720b_11eb_b034_6003088e8290row0_col0,#T_d7c6e7dc_720b_11eb_b034_6003088e8290row1_col1,#T_d7c6e7dc_720b_11eb_b034_6003088e8290row2_col2,#T_d7c6e7dc_720b_11eb_b034_6003088e8290row3_col3{\n",
       "            background-color:  #b40426;\n",
       "            color:  #f1f1f1;\n",
       "        }#T_d7c6e7dc_720b_11eb_b034_6003088e8290row0_col1{\n",
       "            background-color:  #c73635;\n",
       "            color:  #f1f1f1;\n",
       "        }#T_d7c6e7dc_720b_11eb_b034_6003088e8290row0_col2{\n",
       "            background-color:  #ec8165;\n",
       "            color:  #000000;\n",
       "        }#T_d7c6e7dc_720b_11eb_b034_6003088e8290row0_col3,#T_d7c6e7dc_720b_11eb_b034_6003088e8290row3_col0,#T_d7c6e7dc_720b_11eb_b034_6003088e8290row3_col1,#T_d7c6e7dc_720b_11eb_b034_6003088e8290row3_col2{\n",
       "            background-color:  #3b4cc0;\n",
       "            color:  #f1f1f1;\n",
       "        }#T_d7c6e7dc_720b_11eb_b034_6003088e8290row1_col0{\n",
       "            background-color:  #c53334;\n",
       "            color:  #f1f1f1;\n",
       "        }#T_d7c6e7dc_720b_11eb_b034_6003088e8290row1_col2{\n",
       "            background-color:  #dd5f4b;\n",
       "            color:  #000000;\n",
       "        }#T_d7c6e7dc_720b_11eb_b034_6003088e8290row1_col3{\n",
       "            background-color:  #4c66d6;\n",
       "            color:  #000000;\n",
       "        }#T_d7c6e7dc_720b_11eb_b034_6003088e8290row2_col0{\n",
       "            background-color:  #de614d;\n",
       "            color:  #000000;\n",
       "        }#T_d7c6e7dc_720b_11eb_b034_6003088e8290row2_col1{\n",
       "            background-color:  #d1493f;\n",
       "            color:  #f1f1f1;\n",
       "        }#T_d7c6e7dc_720b_11eb_b034_6003088e8290row2_col3{\n",
       "            background-color:  #adc9fd;\n",
       "            color:  #000000;\n",
       "        }</style><table id=\"T_d7c6e7dc_720b_11eb_b034_6003088e8290\" ><thead>    <tr>        <th class=\"blank level0\" ></th>        <th class=\"col_heading level0 col0\" >cm_1</th>        <th class=\"col_heading level0 col1\" >em_1</th>        <th class=\"col_heading level0 col2\" >cm_1_2</th>        <th class=\"col_heading level0 col3\" >em_1_2</th>    </tr></thead><tbody>\n",
       "                <tr>\n",
       "                        <th id=\"T_d7c6e7dc_720b_11eb_b034_6003088e8290level0_row0\" class=\"row_heading level0 row0\" >cm_1</th>\n",
       "                        <td id=\"T_d7c6e7dc_720b_11eb_b034_6003088e8290row0_col0\" class=\"data row0 col0\" >1.000000</td>\n",
       "                        <td id=\"T_d7c6e7dc_720b_11eb_b034_6003088e8290row0_col1\" class=\"data row0 col1\" >0.949415</td>\n",
       "                        <td id=\"T_d7c6e7dc_720b_11eb_b034_6003088e8290row0_col2\" class=\"data row0 col2\" >0.866513</td>\n",
       "                        <td id=\"T_d7c6e7dc_720b_11eb_b034_6003088e8290row0_col3\" class=\"data row0 col3\" >-0.041488</td>\n",
       "            </tr>\n",
       "            <tr>\n",
       "                        <th id=\"T_d7c6e7dc_720b_11eb_b034_6003088e8290level0_row1\" class=\"row_heading level0 row1\" >em_1</th>\n",
       "                        <td id=\"T_d7c6e7dc_720b_11eb_b034_6003088e8290row1_col0\" class=\"data row1 col0\" >0.949415</td>\n",
       "                        <td id=\"T_d7c6e7dc_720b_11eb_b034_6003088e8290row1_col1\" class=\"data row1 col1\" >1.000000</td>\n",
       "                        <td id=\"T_d7c6e7dc_720b_11eb_b034_6003088e8290row1_col2\" class=\"data row1 col2\" >0.916650</td>\n",
       "                        <td id=\"T_d7c6e7dc_720b_11eb_b034_6003088e8290row1_col3\" class=\"data row1 col3\" >0.022177</td>\n",
       "            </tr>\n",
       "            <tr>\n",
       "                        <th id=\"T_d7c6e7dc_720b_11eb_b034_6003088e8290level0_row2\" class=\"row_heading level0 row2\" >cm_1_2</th>\n",
       "                        <td id=\"T_d7c6e7dc_720b_11eb_b034_6003088e8290row2_col0\" class=\"data row2 col0\" >0.866513</td>\n",
       "                        <td id=\"T_d7c6e7dc_720b_11eb_b034_6003088e8290row2_col1\" class=\"data row2 col1\" >0.916650</td>\n",
       "                        <td id=\"T_d7c6e7dc_720b_11eb_b034_6003088e8290row2_col2\" class=\"data row2 col2\" >1.000000</td>\n",
       "                        <td id=\"T_d7c6e7dc_720b_11eb_b034_6003088e8290row2_col3\" class=\"data row2 col3\" >0.316058</td>\n",
       "            </tr>\n",
       "            <tr>\n",
       "                        <th id=\"T_d7c6e7dc_720b_11eb_b034_6003088e8290level0_row3\" class=\"row_heading level0 row3\" >em_1_2</th>\n",
       "                        <td id=\"T_d7c6e7dc_720b_11eb_b034_6003088e8290row3_col0\" class=\"data row3 col0\" >-0.041488</td>\n",
       "                        <td id=\"T_d7c6e7dc_720b_11eb_b034_6003088e8290row3_col1\" class=\"data row3 col1\" >0.022177</td>\n",
       "                        <td id=\"T_d7c6e7dc_720b_11eb_b034_6003088e8290row3_col2\" class=\"data row3 col2\" >0.316058</td>\n",
       "                        <td id=\"T_d7c6e7dc_720b_11eb_b034_6003088e8290row3_col3\" class=\"data row3 col3\" >1.000000</td>\n",
       "            </tr>\n",
       "    </tbody></table>"
      ],
      "text/plain": [
       "<pandas.io.formats.style.Styler at 0x7fd1dd5cd730>"
      ]
     },
     "execution_count": 13,
     "metadata": {},
     "output_type": "execute_result"
    }
   ],
   "source": [
    "data_corr=data[['cm_1','em_1','cm_1_2','em_1_2']].corr()\n",
    "data_corr.style.background_gradient(cmap='coolwarm')"
   ]
  },
  {
   "cell_type": "code",
   "execution_count": null,
   "metadata": {},
   "outputs": [],
   "source": []
  }
 ],
 "metadata": {
  "kernelspec": {
   "display_name": "Python 3",
   "language": "python",
   "name": "python3"
  },
  "language_info": {
   "codemirror_mode": {
    "name": "ipython",
    "version": 3
   },
   "file_extension": ".py",
   "mimetype": "text/x-python",
   "name": "python",
   "nbconvert_exporter": "python",
   "pygments_lexer": "ipython3",
   "version": "3.8.5"
  }
 },
 "nbformat": 4,
 "nbformat_minor": 4
}
